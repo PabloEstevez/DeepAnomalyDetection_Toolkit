{
 "cells": [
  {
   "cell_type": "code",
   "execution_count": 39,
   "metadata": {},
   "outputs": [
    {
     "name": "stdout",
     "output_type": "stream",
     "text": [
      "{'DatasetList': [{'Generated1': None, 'dataset_file': '../Datasets/simuleMV_11000x10_200anom.csv', 'hidden_layer_activation_function': 'relu', 'output_layer_activation_function': 'linear', 'hidden_layer_size': 7, 'bottleneck_layer_size': 2, 'epochs': 20, 'batch_size': 512, 'threshold_percentile': 99}, {'ECG': None, 'dataset_file': 'http://storage.googleapis.com/download.tensorflow.org/data/ecg.csv', 'hidden_layer_activation_function': 'relu', 'output_layer_activation_function': 'linear', 'hidden_layer_size': 32, 'bottleneck_layer_size': 8, 'epochs': 20, 'batch_size': 512, 'threshold_percentile': 95}]}\n"
     ]
    }
   ],
   "source": [
    "import yaml\n",
    "from yaml.loader import SafeLoader\n",
    "\n",
    "# Open the file and load the file\n",
    "with open('hyperparams_config.yaml') as f:\n",
    "    config = yaml.load(f, Loader=SafeLoader)\n",
    "    print(config)\n",
    "\n"
   ]
  },
  {
   "cell_type": "markdown",
   "metadata": {},
   "source": [
    "Read dataset"
   ]
  },
  {
   "cell_type": "code",
   "execution_count": 32,
   "metadata": {},
   "outputs": [],
   "source": [
    "import matplotlib.pyplot as plt\n",
    "import numpy as np\n",
    "import pandas as pd\n",
    "import tensorflow as tf\n",
    "\n",
    "# Import dataset\n",
    "#file_name = \"http://storage.googleapis.com/download.tensorflow.org/data/ecg.csv\"\n",
    "file_name = \"../Datasets/simuleMV_11000x10_200anom.csv\"\n",
    "\n",
    "dataframe = pd.read_csv(file_name)\n",
    "dataset = dataframe.values\n",
    "# nr_clases = dataset['Class'].value_counts(sort=True)\n",
    "# print(nr_clases)"
   ]
  },
  {
   "cell_type": "markdown",
   "metadata": {},
   "source": [
    "Pre-processing"
   ]
  },
  {
   "cell_type": "code",
   "execution_count": 33,
   "metadata": {},
   "outputs": [],
   "source": [
    "from sklearn.preprocessing import StandardScaler\n",
    "from sklearn.model_selection import train_test_split\n",
    "import numpy as np\n",
    "\n",
    "# The last element contains the labels\n",
    "labels = dataset[:, -1]\n",
    "\n",
    "# The other data points are the features\n",
    "data = dataset[:, 0:-1]\n",
    "\n",
    "# Dataset split (train & test)\n",
    "# train_data, test_data, train_labels, test_labels = train_test_split(\n",
    "#     data, labels, test_size=0.2, random_state=1337\n",
    "# )\n",
    "\n",
    "train_test_cut_point = 10000\n",
    "\n",
    "train_data = data[0:train_test_cut_point, :]\n",
    "test_data = data[train_test_cut_point:, :]\n",
    "train_labels = labels[0:train_test_cut_point]\n",
    "test_labels = labels[train_test_cut_point:]\n",
    "\n",
    "# Pre-processing -> Autoscaling (not needed?)\n",
    "#xc = StandardScaler().fit_transform(dataset)\n",
    "min_val = tf.reduce_min(train_data)\n",
    "max_val = tf.reduce_max(train_data)\n",
    "\n",
    "train_data = (train_data - min_val) / (max_val - min_val)\n",
    "test_data = (test_data - min_val) / (max_val - min_val)\n",
    "\n",
    "train_data = tf.cast(train_data, tf.float32)\n",
    "test_data = tf.cast(test_data, tf.float32)\n",
    "\n",
    "train_labels = train_labels.astype(bool)\n",
    "test_labels = test_labels.astype(bool)\n",
    "\n",
    "normal_train_data = train_data[train_labels]\n",
    "normal_test_data = test_data[test_labels]\n",
    "\n",
    "anomalous_train_data = train_data[~train_labels]\n",
    "anomalous_test_data = test_data[~test_labels]\n",
    "\n",
    "# train_data = train_data[train_data.Class == 0]\n",
    "# train_data = train_data.drop(['Class'], axis=1)\n",
    "# train_data = train_data.values\n",
    "\n",
    "# Y_test = test_data['Class']\n",
    "# test_data = test_data.drop(['Class'], axis=1)\n",
    "# test_data = test_data.values"
   ]
  },
  {
   "cell_type": "markdown",
   "metadata": {},
   "source": [
    "Autoencoder"
   ]
  },
  {
   "cell_type": "code",
   "execution_count": 34,
   "metadata": {},
   "outputs": [
    {
     "name": "stdout",
     "output_type": "stream",
     "text": [
      "Epoch 1/20\n",
      "20/20 [==============================] - 1s 20ms/step - loss: 0.3018 - accuracy: 0.1242 - val_loss: 0.2756 - val_accuracy: 0.1330\n",
      "Epoch 2/20\n",
      "20/20 [==============================] - 0s 7ms/step - loss: 0.2302 - accuracy: 0.1242 - val_loss: 0.2345 - val_accuracy: 0.1330\n",
      "Epoch 3/20\n",
      "20/20 [==============================] - 0s 6ms/step - loss: 0.2038 - accuracy: 0.1242 - val_loss: 0.2150 - val_accuracy: 0.1330\n",
      "Epoch 4/20\n",
      "20/20 [==============================] - 0s 6ms/step - loss: 0.1849 - accuracy: 0.1242 - val_loss: 0.1968 - val_accuracy: 0.1330\n",
      "Epoch 5/20\n",
      "20/20 [==============================] - 0s 7ms/step - loss: 0.1665 - accuracy: 0.1242 - val_loss: 0.1793 - val_accuracy: 0.1330\n",
      "Epoch 6/20\n",
      "20/20 [==============================] - 0s 7ms/step - loss: 0.1489 - accuracy: 0.1242 - val_loss: 0.1619 - val_accuracy: 0.1330\n",
      "Epoch 7/20\n",
      "20/20 [==============================] - 0s 7ms/step - loss: 0.1316 - accuracy: 0.1242 - val_loss: 0.1451 - val_accuracy: 0.1330\n",
      "Epoch 8/20\n",
      "20/20 [==============================] - 0s 7ms/step - loss: 0.1148 - accuracy: 0.1242 - val_loss: 0.1286 - val_accuracy: 0.1330\n",
      "Epoch 9/20\n",
      "20/20 [==============================] - 0s 8ms/step - loss: 0.0978 - accuracy: 0.1242 - val_loss: 0.1120 - val_accuracy: 0.1330\n",
      "Epoch 10/20\n",
      "20/20 [==============================] - 0s 6ms/step - loss: 0.0818 - accuracy: 0.1186 - val_loss: 0.0977 - val_accuracy: 0.1790\n",
      "Epoch 11/20\n",
      "20/20 [==============================] - 0s 7ms/step - loss: 0.0684 - accuracy: 0.1529 - val_loss: 0.0850 - val_accuracy: 0.1520\n",
      "Epoch 12/20\n",
      "20/20 [==============================] - 0s 7ms/step - loss: 0.0567 - accuracy: 0.1446 - val_loss: 0.0742 - val_accuracy: 0.1480\n",
      "Epoch 13/20\n",
      "20/20 [==============================] - 0s 7ms/step - loss: 0.0466 - accuracy: 0.1409 - val_loss: 0.0649 - val_accuracy: 0.1460\n",
      "Epoch 14/20\n",
      "20/20 [==============================] - 0s 7ms/step - loss: 0.0381 - accuracy: 0.1394 - val_loss: 0.0571 - val_accuracy: 0.1450\n",
      "Epoch 15/20\n",
      "20/20 [==============================] - 0s 7ms/step - loss: 0.0312 - accuracy: 0.1388 - val_loss: 0.0508 - val_accuracy: 0.1420\n",
      "Epoch 16/20\n",
      "20/20 [==============================] - 0s 7ms/step - loss: 0.0258 - accuracy: 0.1396 - val_loss: 0.0460 - val_accuracy: 0.1470\n",
      "Epoch 17/20\n",
      "20/20 [==============================] - 0s 6ms/step - loss: 0.0217 - accuracy: 0.1432 - val_loss: 0.0425 - val_accuracy: 0.1510\n",
      "Epoch 18/20\n",
      "20/20 [==============================] - 0s 6ms/step - loss: 0.0188 - accuracy: 0.1467 - val_loss: 0.0399 - val_accuracy: 0.1650\n",
      "Epoch 19/20\n",
      "20/20 [==============================] - 0s 7ms/step - loss: 0.0168 - accuracy: 0.1709 - val_loss: 0.0382 - val_accuracy: 0.1950\n",
      "Epoch 20/20\n",
      "20/20 [==============================] - 0s 7ms/step - loss: 0.0155 - accuracy: 0.1845 - val_loss: 0.0371 - val_accuracy: 0.2100\n"
     ]
    },
    {
     "data": {
      "text/plain": [
       "<matplotlib.legend.Legend at 0x13519608940>"
      ]
     },
     "execution_count": 34,
     "metadata": {},
     "output_type": "execute_result"
    },
    {
     "data": {
      "image/png": "[encoded data removed]",
      "text/plain": [
       "<Figure size 432x288 with 1 Axes>"
      ]
     },
     "metadata": {
      "needs_background": "light"
     },
     "output_type": "display_data"
    }
   ],
   "source": [
    "import datetime\n",
    "from tensorflow.keras.models import Model\n",
    "from tensorflow.keras.layers import Dense\n",
    "from tensorflow.keras.callbacks import TensorBoard\n",
    "\n",
    "np.random.seed(5)\n",
    "\n",
    "hidden_activation = 'relu'\n",
    "output_activation = 'linear'\n",
    "hidden_size = 7\n",
    "bottleneck_size = 2\n",
    "input_size = train_data.shape[1]\n",
    "\n",
    "class AnomalyDetector(Model):\n",
    "  def __init__(self, hidden_activation, output_activation, hidden_size, bottleneck_size, input_size):\n",
    "    super(AnomalyDetector, self).__init__()\n",
    "    self.encoder = tf.keras.Sequential([\n",
    "      Dense(hidden_size, activation=hidden_activation),\n",
    "      Dense(bottleneck_size, activation=hidden_activation)])\n",
    "\n",
    "    self.decoder = tf.keras.Sequential([\n",
    "      Dense(hidden_size, activation=hidden_activation),\n",
    "      Dense(input_size, activation=output_activation)])\n",
    "\n",
    "  def call(self, x):\n",
    "    encoded = self.encoder(x)\n",
    "    decoded = self.decoder(encoded)\n",
    "    return decoded\n",
    "\n",
    "autoencoder = AnomalyDetector(hidden_activation, output_activation, hidden_size, bottleneck_size, input_size)\n",
    "\n",
    "autoencoder.compile(optimizer='adam', loss='mse', metrics=['accuracy'])\n",
    "\n",
    "epochs = 20\n",
    "batch_size = 512\n",
    "\n",
    "# Logs directory\n",
    "log_dir = \"logs/fit/\" + datetime.datetime.now().strftime(\"%Y%m%d-%H%M%S\")\n",
    "tensorboard_callback = TensorBoard(log_dir=log_dir, histogram_freq=1)\n",
    "\n",
    "trainig_history = autoencoder.fit(train_data, train_data, epochs=epochs, batch_size=batch_size, shuffle=True, validation_data=(test_data,test_data), verbose=1, callbacks=[tensorboard_callback])\n",
    "\n",
    "plt.plot(trainig_history.history[\"loss\"], label=\"Training Loss\")\n",
    "plt.plot(trainig_history.history[\"val_loss\"], label=\"Validation Loss\")\n",
    "plt.legend()\n"
   ]
  },
  {
   "cell_type": "markdown",
   "metadata": {},
   "source": [
    "Validation"
   ]
  },
  {
   "cell_type": "code",
   "execution_count": 35,
   "metadata": {},
   "outputs": [],
   "source": [
    "# Functions\n",
    "\n",
    "import itertools\n",
    "\n",
    "def plot_confusion_matrix(cm, class_names):\n",
    "    \"\"\"\n",
    "    Returns a matplotlib figure containing the plotted confusion matrix.\n",
    "    \n",
    "    Args:\n",
    "       cm (array, shape = [n, n]): a confusion matrix of integer classes\n",
    "       class_names (array, shape = [n]): String names of the integer classes\n",
    "    \"\"\"\n",
    "    \n",
    "    figure = plt.figure()\n",
    "    plt.imshow(cm, interpolation='nearest', cmap=plt.cm.Blues)\n",
    "    plt.title(\"Confusion matrix\")\n",
    "    plt.colorbar()\n",
    "    tick_marks = np.arange(len(class_names))\n",
    "    plt.xticks(tick_marks, class_names, rotation=45)\n",
    "    plt.yticks(tick_marks, class_names)\n",
    "    \n",
    "    # Normalize the confusion matrix.\n",
    "    #cm = np.around(cm.astype('float') / cm.sum(axis=1)[:, np.newaxis], decimals=2)\n",
    "    \n",
    "    # Use white text if squares are dark; otherwise black.\n",
    "    threshold = cm.max() / 2.\n",
    "    \n",
    "    for i, j in itertools.product(range(cm.shape[0]), range(cm.shape[1])):\n",
    "        color = \"white\" if cm[i, j] > threshold else \"black\"\n",
    "        plt.text(j, i, cm[i, j], horizontalalignment=\"center\", color=color)\n",
    "   \n",
    "    plt.tight_layout()\n",
    "    plt.ylabel('True label')\n",
    "    plt.xlabel('Predicted label')\n",
    "    return figure\n",
    "\n",
    "def predict(model, data, threshold):\n",
    "  reconstructions = model(data)\n",
    "  loss = tf.keras.losses.mse(reconstructions, data)\n",
    "  return tf.math.less(loss, threshold), reconstructions, loss\n",
    "\n",
    "def print_stats(predictions, labels):\n",
    "  print(\"Accuracy = {}\".format(accuracy_score(labels, predictions)))\n",
    "  print(\"Precision = {}\".format(precision_score(labels, predictions)))\n",
    "  print(\"Recall = {}\".format(recall_score(labels, predictions)))"
   ]
  },
  {
   "cell_type": "code",
   "execution_count": 36,
   "metadata": {},
   "outputs": [
    {
     "name": "stdout",
     "output_type": "stream",
     "text": [
      "Threshold:  0.04233454912900926\n"
     ]
    },
    {
     "data": {
      "image/png": "[encoded data removed]",
      "text/plain": [
       "<Figure size 432x288 with 1 Axes>"
      ]
     },
     "metadata": {
      "needs_background": "light"
     },
     "output_type": "display_data"
    },
    {
     "name": "stdout",
     "output_type": "stream",
     "text": [
      "Accuracy = 0.975\n",
      "Precision = 0.976629766297663\n",
      "Recall = 0.9925\n"
     ]
    },
    {
     "data": {
      "image/png": "[encoded data removed]",
      "text/plain": [
       "<Figure size 432x288 with 2 Axes>"
      ]
     },
     "metadata": {
      "needs_background": "light"
     },
     "output_type": "display_data"
    }
   ],
   "source": [
    "from sklearn.metrics import accuracy_score, precision_score, recall_score, confusion_matrix, precision_recall_curve, roc_curve, auc\n",
    "\n",
    "# Plot the reconstruction error on normal Measures from the training set\n",
    "reconstructions = autoencoder.predict(normal_train_data)\n",
    "train_loss = tf.keras.losses.mse(reconstructions, normal_train_data)\n",
    "\n",
    "# Choose a threshold value that is one standard deviations above the mean\n",
    "#threshold = np.mean(train_loss) + np.std(train_loss)\n",
    "threshold = np.percentile(train_loss, 99)\n",
    "print(\"Threshold: \", threshold)\n",
    "\n",
    "# Plot the reconstruction error on anomalous Measures from the test set\n",
    "reconstructions = autoencoder.predict(anomalous_test_data)\n",
    "anom_test_loss = tf.keras.losses.mse(reconstructions, anomalous_test_data)\n",
    "\n",
    "plt.hist(train_loss[None,:], bins=50, alpha=0.8, label=\"Train (normal)\")\n",
    "plt.hist(anom_test_loss[None, :], bins=50, alpha=0.8, label=\"Test (anomalous)\")\n",
    "plt.axvline(x=threshold, color='r', linestyle='--', label=\"Threshold\")\n",
    "plt.xlabel(\"Loss\")\n",
    "plt.ylabel(\"No of examples\")\n",
    "plt.legend(loc='best')\n",
    "plt.show()\n",
    "\n",
    "# Classify an Measure as an anomaly if the reconstruction error is greater than the threshold\n",
    "pred_labels, pred_reconstructions, pred_loss = predict(autoencoder, test_data, threshold)\n",
    "print_stats(pred_labels, test_labels)\n",
    "\n",
    "# Confusion matrix\n",
    "conf_matrix = confusion_matrix(test_labels, pred_labels)\n",
    "cmplot = plot_confusion_matrix(conf_matrix, [\"Positive\",\"Negative\"])\n",
    "\n",
    "# # Precision-recall graph to determine threshold\n",
    "# precision, recall, threshold = precision_recall_curve(test_labels, mse)\n",
    "\n",
    "# plt.plot(threshold, precision[1:], label=\"Precision\",linewidth=5)\n",
    "# plt.plot(threshold, recall[1:], label=\"Recall\",linewidth=5)\n",
    "# plt.title('Precision & Recall to differentiate the threshold')\n",
    "# plt.xlabel('Threshold')\n",
    "# plt.ylabel('Precision/Recall')\n",
    "# plt.legend()\n",
    "# plt.show()\n"
   ]
  },
  {
   "cell_type": "code",
   "execution_count": 37,
   "metadata": {},
   "outputs": [
    {
     "name": "stderr",
     "output_type": "stream",
     "text": [
      "UsageError: Line magic function `%tensorboard` not found.\n"
     ]
    }
   ],
   "source": [
    "%tensorboard"
   ]
  }
 ],
 "metadata": {
  "interpreter": {
   "hash": "6e38c271043618fdabfcd731a22bd25018a77cb3c7078e3658069e5fd357b7b3"
  },
  "kernelspec": {
   "display_name": "Python 3.9.10 64-bit (windows store)",
   "language": "python",
   "name": "python3"
  },
  "language_info": {
   "codemirror_mode": {
    "name": "ipython",
    "version": 3
   },
   "file_extension": ".py",
   "mimetype": "text/x-python",
   "name": "python",
   "nbconvert_exporter": "python",
   "pygments_lexer": "ipython3",
   "version": "3.9.12"
  },
  "orig_nbformat": 4
 },
 "nbformat": 4,
 "nbformat_minor": 2
}

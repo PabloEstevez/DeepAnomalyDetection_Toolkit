{
 "cells": [
  {
   "cell_type": "markdown",
   "metadata": {},
   "source": [
    "Defines"
   ]
  },
  {
   "cell_type": "code",
   "execution_count": 7,
   "metadata": {},
   "outputs": [],
   "source": [
    "INVALID_DATA = -1\n",
    "MAX_TRIES = 25\n",
    "DATASET_URL = \"https://covid.ourworldindata.org/data/owid-covid-data.json\"\n",
    "DATASET_FILE = \"owid-covid-data.json\""
   ]
  },
  {
   "cell_type": "markdown",
   "metadata": {},
   "source": [
    "Download dataset"
   ]
  },
  {
   "cell_type": "code",
   "execution_count": 2,
   "metadata": {},
   "outputs": [
    {
     "data": {
      "text/plain": [
       "('owid-covid-data.json', <http.client.HTTPMessage at 0x2a0d5ee3c10>)"
      ]
     },
     "execution_count": 2,
     "metadata": {},
     "output_type": "execute_result"
    }
   ],
   "source": [
    "import urllib.request\n",
    "\n",
    "urllib.request.urlretrieve(DATASET_URL, DATASET_FILE)"
   ]
  },
  {
   "cell_type": "markdown",
   "metadata": {},
   "source": [
    "Read dataset file"
   ]
  },
  {
   "cell_type": "code",
   "execution_count": 4,
   "metadata": {},
   "outputs": [],
   "source": [
    "import json\n",
    "\n",
    "with open('owid-covid-data.json') as dataset_file:\n",
    "    dataset = json.load(dataset_file)"
   ]
  },
  {
   "cell_type": "markdown",
   "metadata": {},
   "source": [
    "Reduce dataset"
   ]
  },
  {
   "cell_type": "code",
   "execution_count": 8,
   "metadata": {},
   "outputs": [],
   "source": [
    "# target_countries = [\"AFG\", \"AUS\", \"ESP\", \"IND\", \"SEN\", \"USA\", \"CHN\"]\n",
    "target_countries = [\"ESP\", \"FRA\", \"DEU\", \"CHE\", \"ITA\", \"NLD\", \"POL\", \"FIN\", \"GBR\", \"NOR\", \"LTU\", \"SEN\"]\n",
    "target_general_features = [\"population\", \"population_density\", \"median_age\", \"aged_65_older\", \"aged_70_older\", \"cardiovasc_death_rate\", \"diabetes_prevalence\"]\n",
    "target_data_features = [\"total_cases_per_million\", \"total_deaths_per_million\", \"people_fully_vaccinated\"]\n",
    "reduced_dataset = {}\n",
    "\n",
    "for country in target_countries:\n",
    "    reduced_dataset[country] = {}\n",
    "    reduced_dataset[country][\"country\"] = country\n",
    "    for feature in target_general_features:\n",
    "        try: reduced_dataset[country][feature] = dataset[country][feature]\n",
    "        except: reduced_dataset[country][feature] = INVALID_DATA\n",
    "    for feature in target_data_features:\n",
    "        for count in range(MAX_TRIES):\n",
    "            try:\n",
    "                reduced_dataset[country][feature] = dataset[country][\"data\"][-1-count][feature]\n",
    "                break\n",
    "            except:\n",
    "                pass\n",
    "        else:\n",
    "            reduced_dataset[country][feature] = INVALID_DATA"
   ]
  },
  {
   "cell_type": "markdown",
   "metadata": {},
   "source": [
    "Save to CSV file"
   ]
  },
  {
   "cell_type": "code",
   "execution_count": 6,
   "metadata": {},
   "outputs": [],
   "source": [
    "import csv\n",
    "\n",
    "csv_file = open('reduced_dataset.csv','w', newline='')\n",
    "writer = csv.writer(csv_file)\n",
    "\n",
    "row = []\n",
    "\n",
    "for feature in reduced_dataset[target_countries[0]]:\n",
    "    row.append(feature)\n",
    "\n",
    "writer.writerow(row)\n",
    "\n",
    "for country in reduced_dataset:\n",
    "    row = []\n",
    "    for feature in reduced_dataset[country]:\n",
    "        row.append(reduced_dataset[country][feature])\n",
    "    writer.writerow(row)\n",
    "\n",
    "csv_file.close()"
   ]
  }
 ],
 "metadata": {
  "interpreter": {
   "hash": "e7370f93d1d0cde622a1f8e1c04877d8463912d04d973331ad4851f04de6915a"
  },
  "kernelspec": {
   "display_name": "Python 3.10.4 64-bit",
   "language": "python",
   "name": "python3"
  },
  "language_info": {
   "codemirror_mode": {
    "name": "ipython",
    "version": 3
   },
   "file_extension": ".py",
   "mimetype": "text/x-python",
   "name": "python",
   "nbconvert_exporter": "python",
   "pygments_lexer": "ipython3",
   "version": "3.10.4"
  },
  "orig_nbformat": 4
 },
 "nbformat": 4,
 "nbformat_minor": 2
}
